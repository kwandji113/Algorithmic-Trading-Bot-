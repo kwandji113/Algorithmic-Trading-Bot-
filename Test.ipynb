{
 "cells": [
  {
   "cell_type": "code",
   "execution_count": 1,
   "metadata": {},
   "outputs": [],
   "source": [
    "import os\n",
    "import datetime\n",
    "import numpy as np\n",
    "import matplotlib.pyplot as plt\n",
    "import pandas as pd\n",
    "import yfinance as yf\n",
    "import pandas_ta as ta\n",
    "from sklearn.preprocessing import MinMaxScaler\n",
    "#globals\n",
    "TOTAL_FEATURES = 8\n",
    "BACK_CANDLES = 100\n",
    "FUTURE_DAYS = 10\n",
    "\n",
    "def create_stock_dictionary():\n",
    "    dictionary = {}\n",
    "    current_directory = os.getcwd()\n",
    "    folder_name = 'S&P500'\n",
    "    folder_path = os.path.join(current_directory, folder_name)\n",
    "\n",
    "    for file_name in os.listdir(folder_path):\n",
    "        if file_name.endswith('.csv'):\n",
    "            name = file_name.split(\"_\")[0]\n",
    "            file_path = os.path.join(folder_path, file_name)\n",
    "            dictionary[name] = pd.read_csv(file_path)\n",
    "            \n",
    "    return dictionary"
   ]
  },
  {
   "cell_type": "code",
   "execution_count": 2,
   "metadata": {},
   "outputs": [],
   "source": [
    "import random\n",
    "stock_data = create_stock_dictionary()\n"
   ]
  },
  {
   "cell_type": "code",
   "execution_count": 3,
   "metadata": {},
   "outputs": [],
   "source": [
    "from sklearn.model_selection import train_test_split\n",
    "n_days = BACK_CANDLES\n",
    "m_days = FUTURE_DAYS\n",
    "stock_data_training = {}\n",
    "stock_data_testing = {}\n",
    "\n",
    "#split data for training\n",
    "for i in stock_data.keys():\n",
    "    #add more features here\n",
    "    stock_data[i].rename(columns = {'Datetime':'Date'}, inplace = True)\n",
    "    stock_data[i]['MACD'] = ta.macd(stock_data[i]['Close'])['MACD_12_26_9']\n",
    "    stock_data[i]['OBV'] = ta.obv(stock_data[i]['Close'], stock_data[i]['Volume'])\n",
    "    stock_data[i]['RSI'] = ta.rsi(stock_data[i]['Close'])\n",
    "    stock_data[i][\"TargetNextClose\"] = stock_data[i][\"Adj Close\"].shift(-1)\n",
    "    stock_data[i].drop(['Close', 'Volume'], axis=1, inplace=True)\n",
    "    \n",
    "    #change scaling algorithm\n",
    "    scaler = MinMaxScaler()\n",
    "    for k in range(1, stock_data[i].shape[1]):\n",
    "        column_data = stock_data[i].iloc[:, k].values.reshape(-1, 1)\n",
    "        stock_data[i].iloc[:, k] = scaler.fit_transform(column_data)\n",
    "    \n",
    "    stock_data_training[i], stock_data_testing[i] = train_test_split(stock_data[i], test_size=0.2, shuffle=False)\n"
   ]
  },
  {
   "cell_type": "code",
   "execution_count": 5,
   "metadata": {},
   "outputs": [
    {
     "data": {
      "text/html": [
       "<div>\n",
       "<style scoped>\n",
       "    .dataframe tbody tr th:only-of-type {\n",
       "        vertical-align: middle;\n",
       "    }\n",
       "\n",
       "    .dataframe tbody tr th {\n",
       "        vertical-align: top;\n",
       "    }\n",
       "\n",
       "    .dataframe thead th {\n",
       "        text-align: right;\n",
       "    }\n",
       "</style>\n",
       "<table border=\"1\" class=\"dataframe\">\n",
       "  <thead>\n",
       "    <tr style=\"text-align: right;\">\n",
       "      <th></th>\n",
       "      <th>Date</th>\n",
       "      <th>Open</th>\n",
       "      <th>High</th>\n",
       "      <th>Low</th>\n",
       "      <th>Adj Close</th>\n",
       "      <th>MACD</th>\n",
       "      <th>OBV</th>\n",
       "      <th>RSI</th>\n",
       "      <th>TargetNextClose</th>\n",
       "    </tr>\n",
       "  </thead>\n",
       "  <tbody>\n",
       "    <tr>\n",
       "      <th>25</th>\n",
       "      <td>2022-04-12 13:30:00-04:00</td>\n",
       "      <td>0.420570</td>\n",
       "      <td>0.412527</td>\n",
       "      <td>0.415348</td>\n",
       "      <td>0.411564</td>\n",
       "      <td>0.582070</td>\n",
       "      <td>0.333957</td>\n",
       "      <td>0.513369</td>\n",
       "      <td>0.407811</td>\n",
       "    </tr>\n",
       "    <tr>\n",
       "      <th>26</th>\n",
       "      <td>2022-04-12 14:30:00-04:00</td>\n",
       "      <td>0.410985</td>\n",
       "      <td>0.405949</td>\n",
       "      <td>0.414617</td>\n",
       "      <td>0.407811</td>\n",
       "      <td>0.574508</td>\n",
       "      <td>0.330204</td>\n",
       "      <td>0.482212</td>\n",
       "      <td>0.411656</td>\n",
       "    </tr>\n",
       "    <tr>\n",
       "      <th>27</th>\n",
       "      <td>2022-04-12 15:30:00-04:00</td>\n",
       "      <td>0.407176</td>\n",
       "      <td>0.405164</td>\n",
       "      <td>0.414816</td>\n",
       "      <td>0.411656</td>\n",
       "      <td>0.571880</td>\n",
       "      <td>0.334294</td>\n",
       "      <td>0.517210</td>\n",
       "      <td>0.444263</td>\n",
       "    </tr>\n",
       "    <tr>\n",
       "      <th>28</th>\n",
       "      <td>2022-04-13 09:30:00-04:00</td>\n",
       "      <td>0.415712</td>\n",
       "      <td>0.440605</td>\n",
       "      <td>0.424170</td>\n",
       "      <td>0.444263</td>\n",
       "      <td>0.598746</td>\n",
       "      <td>0.350164</td>\n",
       "      <td>0.722403</td>\n",
       "      <td>0.454340</td>\n",
       "    </tr>\n",
       "    <tr>\n",
       "      <th>29</th>\n",
       "      <td>2022-04-13 10:30:00-04:00</td>\n",
       "      <td>0.444024</td>\n",
       "      <td>0.445710</td>\n",
       "      <td>0.449445</td>\n",
       "      <td>0.454340</td>\n",
       "      <td>0.628363</td>\n",
       "      <td>0.356370</td>\n",
       "      <td>0.764184</td>\n",
       "      <td>0.451067</td>\n",
       "    </tr>\n",
       "    <tr>\n",
       "      <th>...</th>\n",
       "      <td>...</td>\n",
       "      <td>...</td>\n",
       "      <td>...</td>\n",
       "      <td>...</td>\n",
       "      <td>...</td>\n",
       "      <td>...</td>\n",
       "      <td>...</td>\n",
       "      <td>...</td>\n",
       "      <td>...</td>\n",
       "    </tr>\n",
       "    <tr>\n",
       "      <th>21060</th>\n",
       "      <td>2023-10-17 09:30:00-04:00</td>\n",
       "      <td>0.460602</td>\n",
       "      <td>0.479245</td>\n",
       "      <td>0.463025</td>\n",
       "      <td>0.484582</td>\n",
       "      <td>0.460176</td>\n",
       "      <td>0.755875</td>\n",
       "      <td>0.570258</td>\n",
       "      <td>0.489973</td>\n",
       "    </tr>\n",
       "    <tr>\n",
       "      <th>21061</th>\n",
       "      <td>2023-10-17 10:30:00-04:00</td>\n",
       "      <td>0.484444</td>\n",
       "      <td>0.482884</td>\n",
       "      <td>0.494373</td>\n",
       "      <td>0.489973</td>\n",
       "      <td>0.470036</td>\n",
       "      <td>0.758566</td>\n",
       "      <td>0.605868</td>\n",
       "      <td>0.494771</td>\n",
       "    </tr>\n",
       "    <tr>\n",
       "      <th>21062</th>\n",
       "      <td>2023-10-17 11:30:00-04:00</td>\n",
       "      <td>0.490700</td>\n",
       "      <td>0.490987</td>\n",
       "      <td>0.502633</td>\n",
       "      <td>0.494771</td>\n",
       "      <td>0.481272</td>\n",
       "      <td>0.762756</td>\n",
       "      <td>0.636315</td>\n",
       "      <td>0.479078</td>\n",
       "    </tr>\n",
       "    <tr>\n",
       "      <th>21063</th>\n",
       "      <td>2023-10-17 12:30:00-04:00</td>\n",
       "      <td>0.495434</td>\n",
       "      <td>0.487291</td>\n",
       "      <td>0.491380</td>\n",
       "      <td>0.479078</td>\n",
       "      <td>0.477060</td>\n",
       "      <td>0.759359</td>\n",
       "      <td>0.503196</td>\n",
       "      <td>0.466173</td>\n",
       "    </tr>\n",
       "    <tr>\n",
       "      <th>21064</th>\n",
       "      <td>2023-10-17 13:30:00-04:00</td>\n",
       "      <td>0.479146</td>\n",
       "      <td>0.470317</td>\n",
       "      <td>0.479127</td>\n",
       "      <td>0.466173</td>\n",
       "      <td>0.463023</td>\n",
       "      <td>0.756967</td>\n",
       "      <td>0.415931</td>\n",
       "      <td>0.469256</td>\n",
       "    </tr>\n",
       "  </tbody>\n",
       "</table>\n",
       "<p>20865 rows × 9 columns</p>\n",
       "</div>"
      ],
      "text/plain": [
       "                            Date      Open      High       Low  Adj Close  \\\n",
       "25     2022-04-12 13:30:00-04:00  0.420570  0.412527  0.415348   0.411564   \n",
       "26     2022-04-12 14:30:00-04:00  0.410985  0.405949  0.414617   0.407811   \n",
       "27     2022-04-12 15:30:00-04:00  0.407176  0.405164  0.414816   0.411656   \n",
       "28     2022-04-13 09:30:00-04:00  0.415712  0.440605  0.424170   0.444263   \n",
       "29     2022-04-13 10:30:00-04:00  0.444024  0.445710  0.449445   0.454340   \n",
       "...                          ...       ...       ...       ...        ...   \n",
       "21060  2023-10-17 09:30:00-04:00  0.460602  0.479245  0.463025   0.484582   \n",
       "21061  2023-10-17 10:30:00-04:00  0.484444  0.482884  0.494373   0.489973   \n",
       "21062  2023-10-17 11:30:00-04:00  0.490700  0.490987  0.502633   0.494771   \n",
       "21063  2023-10-17 12:30:00-04:00  0.495434  0.487291  0.491380   0.479078   \n",
       "21064  2023-10-17 13:30:00-04:00  0.479146  0.470317  0.479127   0.466173   \n",
       "\n",
       "           MACD       OBV       RSI  TargetNextClose  \n",
       "25     0.582070  0.333957  0.513369         0.407811  \n",
       "26     0.574508  0.330204  0.482212         0.411656  \n",
       "27     0.571880  0.334294  0.517210         0.444263  \n",
       "28     0.598746  0.350164  0.722403         0.454340  \n",
       "29     0.628363  0.356370  0.764184         0.451067  \n",
       "...         ...       ...       ...              ...  \n",
       "21060  0.460176  0.755875  0.570258         0.489973  \n",
       "21061  0.470036  0.758566  0.605868         0.494771  \n",
       "21062  0.481272  0.762756  0.636315         0.479078  \n",
       "21063  0.477060  0.759359  0.503196         0.466173  \n",
       "21064  0.463023  0.756967  0.415931         0.469256  \n",
       "\n",
       "[20865 rows x 9 columns]"
      ]
     },
     "execution_count": 5,
     "metadata": {},
     "output_type": "execute_result"
    }
   ],
   "source": [
    "#code that lets you select which stocks you want to train on, so you can use other stocks to train\n",
    "vals = stock_data_training.keys()\n",
    "training_vals = random.sample(list(vals), 8)\n",
    "training_df_list = []\n",
    "for key in stock_data_training.keys():\n",
    "    for item in training_vals:\n",
    "        if(key == item):\n",
    "            training_df_list.append(stock_data_training[key])\n",
    "            \n",
    "\n",
    "stacked_stock_data = pd.concat(training_df_list, ignore_index=True, axis=0)\n",
    "stacked_stock_data = stacked_stock_data.dropna()\n",
    "stacked_stock_data\n"
   ]
  },
  {
   "cell_type": "code",
   "execution_count": 6,
   "metadata": {},
   "outputs": [],
   "source": [
    "xs, ys = [], []\n",
    "#for actuallly training data\n",
    "for i in range(len(stacked_stock_data) - n_days - m_days + 1): \n",
    "\n",
    "    v = stacked_stock_data.iloc[i:(i + n_days), :-1]\n",
    "\n",
    "    if v['Date'].iloc[-1] <= v['Date'].iloc[0]: \n",
    "        continue\n",
    "\n",
    "    xs.append(v.iloc[:, 1:].to_numpy())\n",
    "    ys.append(stacked_stock_data.iloc[i + n_days:i + n_days + m_days, len(stacked_stock_data.columns) - 1])\n",
    "xs = np.array(xs)\n",
    "ys = np.array(ys)\n"
   ]
  },
  {
   "cell_type": "code",
   "execution_count": 7,
   "metadata": {},
   "outputs": [
    {
     "data": {
      "text/plain": [
       "array([[0.42056992, 0.41252697, 0.41534769, 0.41156418, 0.58207041,\n",
       "        0.33395706, 0.5133694 ],\n",
       "       [0.41098455, 0.40594928, 0.41461736, 0.4078105 , 0.57450763,\n",
       "        0.33020384, 0.48221155],\n",
       "       [0.40717639, 0.40516392, 0.41481636, 0.41165627, 0.57187955,\n",
       "        0.33429399, 0.51721027],\n",
       "       [0.41571192, 0.44060477, 0.42417015, 0.44426264, 0.59874591,\n",
       "        0.35016399, 0.7224028 ],\n",
       "       [0.4440241 , 0.44570981, 0.44944521, 0.45434043, 0.6283628 ,\n",
       "        0.35636958, 0.76418413],\n",
       "       [0.454056  , 0.44636425, 0.45667611, 0.45106663, 0.64791361,\n",
       "        0.35253836, 0.73545696],\n",
       "       [0.45077312, 0.44970222, 0.45866629, 0.45566833, 0.66636466,\n",
       "        0.35637537, 0.75522707],\n",
       "       [0.45510655, 0.44728053, 0.45707413, 0.45070512, 0.67523059,\n",
       "        0.35192307, 0.71008043],\n",
       "       [0.45031346, 0.44456443, 0.45773756, 0.45326893, 0.68318517,\n",
       "        0.35649494, 0.72256319],\n",
       "       [0.45267715, 0.44714971, 0.4613198 , 0.45563553, 0.69015955,\n",
       "        0.36135543, 0.73429426],\n",
       "       [0.45372769, 0.46331559, 0.46145514, 0.45852795, 0.6967545 ,\n",
       "        0.37211774, 0.74879444],\n",
       "       [0.4579954 , 0.45179655, 0.45733954, 0.45698308, 0.69902762,\n",
       "        0.36865381, 0.73200617],\n",
       "       [0.45596003, 0.44800048, 0.45727314, 0.45307172, 0.6957825 ,\n",
       "        0.36600952, 0.68939202],\n",
       "       [0.45261152, 0.44688785, 0.45992675, 0.4526115 , 0.69132264,\n",
       "        0.36335362, 0.68429768],\n",
       "       [0.45188928, 0.44963152, 0.46064909, 0.45524101, 0.68871187,\n",
       "        0.36596779, 0.70196444],\n",
       "       [0.45490948, 0.44701878, 0.45521665, 0.45103313, 0.68149398,\n",
       "        0.36282751, 0.65238144],\n",
       "       [0.4501165 , 0.44472801, 0.4564771 , 0.44929166, 0.67294401,\n",
       "        0.35915086, 0.63217846],\n",
       "       [0.44519217, 0.44315729, 0.4444034 , 0.44360532, 0.65993669,\n",
       "        0.3521338 , 0.56890047],\n",
       "       [0.44328814, 0.43555796, 0.43756191, 0.43157511, 0.63793906,\n",
       "        0.34753582, 0.45841693],\n",
       "       [0.43089326, 0.42391518, 0.43504971, 0.42848538, 0.61710584,\n",
       "        0.34349429, 0.43392114],\n",
       "       [0.42798988, 0.42989596, 0.43471799, 0.43880631, 0.60935845,\n",
       "        0.34665098, 0.53026494],\n",
       "       [0.43823247, 0.43765948, 0.4467916 , 0.44406544, 0.60744653,\n",
       "        0.34972008, 0.57291919],\n",
       "       [0.4434851 , 0.43674319, 0.44334205, 0.4361768 , 0.59842624,\n",
       "        0.34521071, 0.50477181],\n",
       "       [0.43567182, 0.42705672, 0.43790223, 0.43538797, 0.59025865,\n",
       "        0.3417901 , 0.498234  ],\n",
       "       [0.4380355 , 0.46717718, 0.44619457, 0.47364789, 0.61760741,\n",
       "        0.35608181, 0.73181659],\n",
       "       [0.47335939, 0.46760581, 0.47972148, 0.47512705, 0.63973412,\n",
       "        0.36166832, 0.73798259],\n",
       "       [0.47467252, 0.47306757, 0.48301261, 0.48199674, 0.66231515,\n",
       "        0.3663422 , 0.76629934],\n",
       "       [0.48143526, 0.47686365, 0.48891736, 0.48055048, 0.67759322,\n",
       "        0.35909567, 0.75293824],\n",
       "       [0.48012212, 0.47378752, 0.48367867, 0.47831539, 0.68627339,\n",
       "        0.35573263, 0.7315808 ],\n",
       "       [0.47775844, 0.47287123, 0.48464456, 0.47910422, 0.69237677,\n",
       "        0.35946598, 0.73550455],\n",
       "       [0.47834934, 0.47153081, 0.48115513, 0.47575158, 0.69270565,\n",
       "        0.35419989, 0.70091131],\n",
       "       [0.48320805, 0.47509649, 0.46629521, 0.46536484, 0.68224592,\n",
       "        0.34350503, 0.60348507],\n",
       "       [0.46521779, 0.46756986, 0.4706165 , 0.46637325, 0.673595  ,\n",
       "        0.34871853, 0.61029419],\n",
       "       [0.46574307, 0.45902867, 0.46954585, 0.46293253, 0.66249988,\n",
       "        0.34522866, 0.57888098],\n",
       "       [0.46196777, 0.46298843, 0.4708726 , 0.46358986, 0.65326369,\n",
       "        0.34856641, 0.5839792 ],\n",
       "       [0.46270043, 0.45860333, 0.46702494, 0.46010572, 0.64190307,\n",
       "        0.34588662, 0.55044671],\n",
       "       [0.45930864, 0.45448   , 0.46330999, 0.46122326, 0.6331032 ,\n",
       "        0.34904309, 0.56032354],\n",
       "       [0.46088436, 0.46256039, 0.46662693, 0.4598428 , 0.62418656,\n",
       "        0.33797133, 0.54599522],\n",
       "       [0.48892023, 0.49152433, 0.4828136 , 0.47943293, 0.63394483,\n",
       "        0.35205074, 0.69529534],\n",
       "       [0.47834934, 0.47254397, 0.47657774, 0.47253034, 0.63464349,\n",
       "        0.34717437, 0.62646118],\n",
       "       [0.47171794, 0.464821  , 0.46669323, 0.45865885, 0.62203358,\n",
       "        0.34374912, 0.51144025],\n",
       "       [0.45792978, 0.45081485, 0.4589316 , 0.45944829, 0.61218931,\n",
       "        0.34796804, 0.51751424],\n",
       "       [0.45871764, 0.45094568, 0.45720683, 0.44965327, 0.59520341,\n",
       "        0.34412623, 0.44691272],\n",
       "       [0.44919729, 0.44689634, 0.44942729, 0.44735238, 0.57948588,\n",
       "        0.33990134, 0.43149492],\n",
       "       [0.44683361, 0.4387721 , 0.44846464, 0.44275068, 0.56289339,\n",
       "        0.33419945, 0.40101749],\n",
       "       [0.44079311, 0.44453167, 0.44327565, 0.43565158, 0.54358168,\n",
       "        0.32689649, 0.3573018 ],\n",
       "       [0.43534351, 0.43176908, 0.43690719, 0.43163028, 0.52509898,\n",
       "        0.32207459, 0.33411543],\n",
       "       [0.4310758 , 0.42434062, 0.42994817, 0.42753214, 0.50740802,\n",
       "        0.31712459, 0.31117251],\n",
       "       [0.42661102, 0.42260622, 0.4252315 , 0.41878887, 0.48640462,\n",
       "        0.31421164, 0.26646273],\n",
       "       [0.4180756 , 0.4171084 , 0.42111853, 0.41981443, 0.47174005,\n",
       "        0.31930551, 0.27815779],\n",
       "       [0.41925739, 0.41598339, 0.42410375, 0.42053094, 0.46193385,\n",
       "        0.32291981, 0.28675572],\n",
       "       [0.4203407 , 0.41867922, 0.422777  , 0.41612645, 0.4514879 ,\n",
       "        0.31801044, 0.26243836],\n",
       "       [0.3996257 , 0.39609923, 0.39564446, 0.39811409, 0.42854812,\n",
       "        0.30579233, 0.18319349],\n",
       "       [0.39732774, 0.39557562, 0.3942513 , 0.39456414, 0.40895337,\n",
       "        0.29978784, 0.17050945],\n",
       "       [0.39457012, 0.39073234, 0.39624149, 0.39778538, 0.39822933,\n",
       "        0.30416036, 0.21018329],\n",
       "       [0.39759032, 0.39695   , 0.40234464, 0.40237985, 0.39579973,\n",
       "        0.30742572, 0.26524889],\n",
       "       [0.40152983, 0.39924077, 0.40241094, 0.40790911, 0.40072833,\n",
       "        0.31051888, 0.32772168],\n",
       "       [0.40759727, 0.4014006 , 0.40539627, 0.40659435, 0.40527423,\n",
       "        0.30646169, 0.31995034],\n",
       "       [0.40602736, 0.40113875, 0.41252767, 0.40928967, 0.41303764,\n",
       "        0.31041394, 0.35128295],\n",
       "       [0.40126714, 0.39348119, 0.38085085, 0.38010163, 0.39485577,\n",
       "        0.29676409, 0.21023121],\n",
       "       [0.37953445, 0.37345372, 0.37355364, 0.37050372, 0.37398973,\n",
       "        0.28835529, 0.17888979],\n",
       "       [0.36988276, 0.36291638, 0.36552661, 0.36373264, 0.35377448,\n",
       "        0.28200692, 0.15887936],\n",
       "       [0.36331699, 0.35774593, 0.36260768, 0.355844  , 0.33330483,\n",
       "        0.27646481, 0.13736366],\n",
       "       [0.35537246, 0.35388444, 0.36234237, 0.36228638, 0.32562438,\n",
       "        0.28167662, 0.20382454],\n",
       "       [0.36180689, 0.35643696, 0.35710165, 0.35228493, 0.31341572,\n",
       "        0.27501262, 0.17274165],\n",
       "       [0.35169564, 0.34838663, 0.35723426, 0.35025617, 0.30489453,\n",
       "        0.26673114, 0.16675003],\n",
       "       [0.30435638, 0.29910271, 0.22265815, 0.21657641, 0.18218402,\n",
       "        0.19848236, 0.        ],\n",
       "       [0.21663766, 0.25165256, 0.21878528, 0.25776175, 0.12704536,\n",
       "        0.25575001, 0.19130818],\n",
       "       [0.25741115, 0.28018846, 0.26422738, 0.28694979, 0.1147978 ,\n",
       "        0.29739772, 0.29941243],\n",
       "       [0.28649817, 0.27901042, 0.26231018, 0.26039127, 0.08667695,\n",
       "        0.27265774, 0.25865701],\n",
       "       [0.26003742, 0.2527561 , 0.25261809, 0.2525237 , 0.06307605,\n",
       "        0.25391964, 0.24730405],\n",
       "       [0.25215851, 0.25492503, 0.25331462, 0.25513224, 0.05260959,\n",
       "        0.26994394, 0.25711967],\n",
       "       [0.25491613, 0.26578964, 0.26071143, 0.26828   , 0.0619333 ,\n",
       "        0.28933254, 0.30689442],\n",
       "       [0.28209842, 0.27514884, 0.24731097, 0.24135996, 0.05099371,\n",
       "        0.26992475, 0.26125039],\n",
       "       [0.240931  , 0.24170424, 0.24339701, 0.24020951, 0.04723908,\n",
       "        0.25520594, 0.25938825],\n",
       "       [0.23994617, 0.2358453 , 0.23868691, 0.24369366, 0.05328151,\n",
       "        0.26597142, 0.27372134],\n",
       "       [0.24342663, 0.26127362, 0.25003089, 0.26916744, 0.08650261,\n",
       "        0.27607409, 0.37231956],\n",
       "       [0.26890125, 0.26343346, 0.27066225, 0.26887814, 0.11770863,\n",
       "        0.26941556, 0.37165724],\n",
       "       [0.26863857, 0.2661169 , 0.27252033, 0.26703095, 0.14559366,\n",
       "        0.26043079, 0.36715156],\n",
       "       [0.26680016, 0.26035733, 0.26595215, 0.26689944, 0.17208604,\n",
       "        0.25053765, 0.36680958],\n",
       "       [0.26128493, 0.27671906, 0.26601845, 0.26371111, 0.19446468,\n",
       "        0.23661949, 0.35805041],\n",
       "       [0.26332031, 0.2579612 , 0.26164017, 0.25901081, 0.21201956,\n",
       "        0.22853152, 0.34478457],\n",
       "       [0.25856008, 0.25463052, 0.25318192, 0.24822965, 0.22018285,\n",
       "        0.22041165, 0.31501916],\n",
       "       [0.2478907 , 0.24275145, 0.24777529, 0.24862407, 0.2308418 ,\n",
       "        0.22637516, 0.31716835],\n",
       "       [0.24821901, 0.24458342, 0.24731097, 0.24316774, 0.23812713,\n",
       "        0.22027266, 0.30139926],\n",
       "       [0.24290075, 0.23664374, 0.24459106, 0.24007801, 0.24479268,\n",
       "        0.21094842, 0.29233992],\n",
       "       [0.23981483, 0.23457029, 0.23550268, 0.23140054, 0.24592333,\n",
       "        0.20042534, 0.26720881],\n",
       "       [0.22569846, 0.22712026, 0.21593276, 0.22587841, 0.24551304,\n",
       "        0.18433131, 0.25171834],\n",
       "       [0.2256676 , 0.22121867, 0.21619878, 0.21332237, 0.23763963,\n",
       "        0.17407598, 0.21865124],\n",
       "       [0.21309219, 0.21428106, 0.21560105, 0.21956754, 0.24074271,\n",
       "        0.18177062, 0.26211526],\n",
       "       [0.21900135, 0.21205571, 0.20929889, 0.2045791 , 0.23351137,\n",
       "        0.17323403, 0.22203264],\n",
       "       [0.20409702, 0.1987041 , 0.20141842, 0.20188379, 0.22920709,\n",
       "        0.16068288, 0.21524418],\n",
       "       [0.20147075, 0.21238298, 0.20402487, 0.21884441, 0.24473985,\n",
       "        0.17002255, 0.32895951],\n",
       "       [0.21847607, 0.22174228, 0.22488844, 0.22995428, 0.27042999,\n",
       "        0.17822691, 0.39390009],\n",
       "       [0.23272378, 0.24167158, 0.23145601, 0.23882895, 0.30179601,\n",
       "        0.19027499, 0.44209851],\n",
       "       [0.23856732, 0.24582758, 0.23689574, 0.25138509, 0.34052815,\n",
       "        0.19793243, 0.50481124],\n",
       "       [0.25137055, 0.24654752, 0.24634903, 0.24671759, 0.36926026,\n",
       "        0.19161804, 0.48379927],\n",
       "       [0.24611802, 0.25518688, 0.24936746, 0.26222803, 0.40778946,\n",
       "        0.20077486, 0.55660881],\n",
       "       [0.26200717, 0.25982983, 0.26051232, 0.25480353, 0.43314219,\n",
       "        0.19248628, 0.52114534],\n",
       "       [0.2545222 , 0.2597028 , 0.25951728, 0.2642272 , 0.46287821,\n",
       "        0.20183148, 0.56391317]])"
      ]
     },
     "execution_count": 7,
     "metadata": {},
     "output_type": "execute_result"
    }
   ],
   "source": [
    "xs[0]"
   ]
  },
  {
   "cell_type": "markdown",
   "metadata": {},
   "source": []
  },
  {
   "cell_type": "code",
   "execution_count": 20,
   "metadata": {},
   "outputs": [],
   "source": [
    "X_test = []\n",
    "Y_test = []\n",
    "test = random.sample(training_vals, 1)[0]\n",
    "for key, df in stock_data_testing.items():\n",
    "    if(key == test):\n",
    "        if len(df) >= n_days + m_days:\n",
    "            for i in range(len(df) - n_days - m_days + 1):\n",
    "                X_test.append(df.iloc[i:i+n_days, 1:-1].to_numpy())\n",
    "\n",
    "            for i in range(len(df) - n_days - m_days + 1):\n",
    "                Y_test.append(df.iloc[i+n_days:i+n_days+m_days, -1].to_numpy())\n",
    "\n",
    "X_test = np.array(X_test)\n",
    "Y_test = np.array(Y_test)"
   ]
  },
  {
   "cell_type": "code",
   "execution_count": null,
   "metadata": {},
   "outputs": [],
   "source": [
    "\n"
   ]
  },
  {
   "cell_type": "code",
   "execution_count": 9,
   "metadata": {},
   "outputs": [],
   "source": [
    "from keras.layers import LSTM\n",
    "from keras.layers import Dense\n",
    "import tensorflow as tf\n",
    "from keras import Sequential\n",
    "from keras import optimizers\n",
    "from keras.optimizers import Adam\n",
    "from keras.models import Model\n",
    "from keras.layers import Dense, GRU, LeakyReLU\n",
    "import keras_tuner as kt\n",
    "import keras\n",
    "from keras_tuner import HyperParameters, RandomSearch\n",
    "\n",
    "num_features = 7"
   ]
  },
  {
   "cell_type": "code",
   "execution_count": 10,
   "metadata": {},
   "outputs": [
    {
     "name": "stdout",
     "output_type": "stream",
     "text": [
      "Trial 10 Complete [00h 32m 01s]\n",
      "val_loss: 0.001407923991791904\n",
      "\n",
      "Best val_loss So Far: 0.0013210737379267812\n",
      "Total elapsed time: 02h 54m 23s\n",
      "Best model architecture:\n"
     ]
    },
    {
     "name": "stderr",
     "output_type": "stream",
     "text": [
      "c:\\Users\\Rober\\AppData\\Local\\Programs\\Python\\Python312\\Lib\\site-packages\\keras\\src\\saving\\saving_lib.py:396: UserWarning: Skipping variable loading for optimizer 'adam', because it has 2 variables whereas the saved optimizer has 12 variables. \n",
      "  trackable.load_own_variables(weights_store.get(inner_path))\n"
     ]
    },
    {
     "data": {
      "text/html": [
       "<pre style=\"white-space:pre;overflow-x:auto;line-height:normal;font-family:Menlo,'DejaVu Sans Mono',consolas,'Courier New',monospace\"><span style=\"font-weight: bold\">Model: \"sequential\"</span>\n",
       "</pre>\n"
      ],
      "text/plain": [
       "\u001b[1mModel: \"sequential\"\u001b[0m\n"
      ]
     },
     "metadata": {},
     "output_type": "display_data"
    },
    {
     "data": {
      "text/html": [
       "<pre style=\"white-space:pre;overflow-x:auto;line-height:normal;font-family:Menlo,'DejaVu Sans Mono',consolas,'Courier New',monospace\">┏━━━━━━━━━━━━━━━━━━━━━━━━━━━━━━━━━┳━━━━━━━━━━━━━━━━━━━━━━━━┳━━━━━━━━━━━━━━━┓\n",
       "┃<span style=\"font-weight: bold\"> Layer (type)                    </span>┃<span style=\"font-weight: bold\"> Output Shape           </span>┃<span style=\"font-weight: bold\">       Param # </span>┃\n",
       "┡━━━━━━━━━━━━━━━━━━━━━━━━━━━━━━━━━╇━━━━━━━━━━━━━━━━━━━━━━━━╇━━━━━━━━━━━━━━━┩\n",
       "│ lstm (<span style=\"color: #0087ff; text-decoration-color: #0087ff\">LSTM</span>)                     │ (<span style=\"color: #00d7ff; text-decoration-color: #00d7ff\">None</span>, <span style=\"color: #00af00; text-decoration-color: #00af00\">40</span>)             │         <span style=\"color: #00af00; text-decoration-color: #00af00\">7,680</span> │\n",
       "├─────────────────────────────────┼────────────────────────┼───────────────┤\n",
       "│ dense (<span style=\"color: #0087ff; text-decoration-color: #0087ff\">Dense</span>)                   │ (<span style=\"color: #00d7ff; text-decoration-color: #00d7ff\">None</span>, <span style=\"color: #00af00; text-decoration-color: #00af00\">10</span>)             │           <span style=\"color: #00af00; text-decoration-color: #00af00\">410</span> │\n",
       "└─────────────────────────────────┴────────────────────────┴───────────────┘\n",
       "</pre>\n"
      ],
      "text/plain": [
       "┏━━━━━━━━━━━━━━━━━━━━━━━━━━━━━━━━━┳━━━━━━━━━━━━━━━━━━━━━━━━┳━━━━━━━━━━━━━━━┓\n",
       "┃\u001b[1m \u001b[0m\u001b[1mLayer (type)                   \u001b[0m\u001b[1m \u001b[0m┃\u001b[1m \u001b[0m\u001b[1mOutput Shape          \u001b[0m\u001b[1m \u001b[0m┃\u001b[1m \u001b[0m\u001b[1m      Param #\u001b[0m\u001b[1m \u001b[0m┃\n",
       "┡━━━━━━━━━━━━━━━━━━━━━━━━━━━━━━━━━╇━━━━━━━━━━━━━━━━━━━━━━━━╇━━━━━━━━━━━━━━━┩\n",
       "│ lstm (\u001b[38;5;33mLSTM\u001b[0m)                     │ (\u001b[38;5;45mNone\u001b[0m, \u001b[38;5;34m40\u001b[0m)             │         \u001b[38;5;34m7,680\u001b[0m │\n",
       "├─────────────────────────────────┼────────────────────────┼───────────────┤\n",
       "│ dense (\u001b[38;5;33mDense\u001b[0m)                   │ (\u001b[38;5;45mNone\u001b[0m, \u001b[38;5;34m10\u001b[0m)             │           \u001b[38;5;34m410\u001b[0m │\n",
       "└─────────────────────────────────┴────────────────────────┴───────────────┘\n"
      ]
     },
     "metadata": {},
     "output_type": "display_data"
    },
    {
     "data": {
      "text/html": [
       "<pre style=\"white-space:pre;overflow-x:auto;line-height:normal;font-family:Menlo,'DejaVu Sans Mono',consolas,'Courier New',monospace\"><span style=\"font-weight: bold\"> Total params: </span><span style=\"color: #00af00; text-decoration-color: #00af00\">8,090</span> (31.60 KB)\n",
       "</pre>\n"
      ],
      "text/plain": [
       "\u001b[1m Total params: \u001b[0m\u001b[38;5;34m8,090\u001b[0m (31.60 KB)\n"
      ]
     },
     "metadata": {},
     "output_type": "display_data"
    },
    {
     "data": {
      "text/html": [
       "<pre style=\"white-space:pre;overflow-x:auto;line-height:normal;font-family:Menlo,'DejaVu Sans Mono',consolas,'Courier New',monospace\"><span style=\"font-weight: bold\"> Trainable params: </span><span style=\"color: #00af00; text-decoration-color: #00af00\">8,090</span> (31.60 KB)\n",
       "</pre>\n"
      ],
      "text/plain": [
       "\u001b[1m Trainable params: \u001b[0m\u001b[38;5;34m8,090\u001b[0m (31.60 KB)\n"
      ]
     },
     "metadata": {},
     "output_type": "display_data"
    },
    {
     "data": {
      "text/html": [
       "<pre style=\"white-space:pre;overflow-x:auto;line-height:normal;font-family:Menlo,'DejaVu Sans Mono',consolas,'Courier New',monospace\"><span style=\"font-weight: bold\"> Non-trainable params: </span><span style=\"color: #00af00; text-decoration-color: #00af00\">0</span> (0.00 B)\n",
       "</pre>\n"
      ],
      "text/plain": [
       "\u001b[1m Non-trainable params: \u001b[0m\u001b[38;5;34m0\u001b[0m (0.00 B)\n"
      ]
     },
     "metadata": {},
     "output_type": "display_data"
    },
    {
     "name": "stdout",
     "output_type": "stream",
     "text": [
      "Best hyperparameters:\n",
      "num_layers: 1\n",
      "units_0: 40\n",
      "units_1: 140\n",
      "units_2: 40\n"
     ]
    }
   ],
   "source": [
    "def build_model(hp):\n",
    "    model = Sequential()\n",
    "    # automatic tuning stuff (that hopefully works)\n",
    "    num_layers = hp.Int('num_layers', 1, 3)\n",
    "    for i in range(num_layers):\n",
    "        model.add(LSTM(units=hp.Int('units_' + str(i), min_value=20, max_value=200, step=20),\n",
    "                       activation='relu',\n",
    "                       input_shape=(n_days, num_features) if i == 0 else None,\n",
    "                       return_sequences=i < num_layers - 1))\n",
    "    model.add(Dense(m_days, activation='linear'))\n",
    "    model.compile(optimizer='adam', loss='mean_squared_error')\n",
    "    return model\n",
    "\n",
    "tuner = RandomSearch(\n",
    "    build_model,\n",
    "    objective='val_loss',\n",
    "    max_trials=10,\n",
    "    executions_per_trial=1,\n",
    "    project_name='lstm_tuning'\n",
    ")\n",
    "\n",
    "tuner.search(xs, ys, epochs=5, batch_size=32, validation_split=0.2, callbacks=[keras.callbacks.EarlyStopping(patience=3)])\n",
    "best_model = tuner.get_best_models(num_models=1)[0]\n",
    "best_hps = tuner.get_best_hyperparameters(num_trials=1)[0]\n",
    "\n",
    "print(\"Best model architecture:\")\n",
    "best_model.summary()\n",
    "print(\"Best hyperparameters:\")\n",
    "for param, val in best_hps.values.items():\n",
    "    print(f\"{param}: {val}\")"
   ]
  },
  {
   "cell_type": "code",
   "execution_count": 12,
   "metadata": {},
   "outputs": [
    {
     "name": "stderr",
     "output_type": "stream",
     "text": [
      "c:\\Users\\Rober\\AppData\\Local\\Programs\\Python\\Python312\\Lib\\site-packages\\keras\\src\\layers\\rnn\\rnn.py:205: UserWarning: Do not pass an `input_shape`/`input_dim` argument to a layer. When using Sequential models, prefer using an `Input(shape)` object as the first layer in the model instead.\n",
      "  super().__init__(**kwargs)\n"
     ]
    },
    {
     "name": "stdout",
     "output_type": "stream",
     "text": [
      "Epoch 1/5\n",
      "\u001b[1m502/502\u001b[0m \u001b[32m━━━━━━━━━━━━━━━━━━━━\u001b[0m\u001b[37m\u001b[0m \u001b[1m50s\u001b[0m 91ms/step - loss: 0.0339 - val_loss: 0.0018\n",
      "Epoch 2/5\n",
      "\u001b[1m502/502\u001b[0m \u001b[32m━━━━━━━━━━━━━━━━━━━━\u001b[0m\u001b[37m\u001b[0m \u001b[1m45s\u001b[0m 89ms/step - loss: 0.0024 - val_loss: 0.0017\n",
      "Epoch 3/5\n",
      "\u001b[1m502/502\u001b[0m \u001b[32m━━━━━━━━━━━━━━━━━━━━\u001b[0m\u001b[37m\u001b[0m \u001b[1m55s\u001b[0m 109ms/step - loss: 0.0020 - val_loss: 0.0015\n",
      "Epoch 4/5\n",
      "\u001b[1m502/502\u001b[0m \u001b[32m━━━━━━━━━━━━━━━━━━━━\u001b[0m\u001b[37m\u001b[0m \u001b[1m41s\u001b[0m 81ms/step - loss: 0.0020 - val_loss: 0.0014\n",
      "Epoch 5/5\n",
      "\u001b[1m502/502\u001b[0m \u001b[32m━━━━━━━━━━━━━━━━━━━━\u001b[0m\u001b[37m\u001b[0m \u001b[1m41s\u001b[0m 82ms/step - loss: 0.0020 - val_loss: 0.0015\n"
     ]
    },
    {
     "data": {
      "text/plain": [
       "<keras.src.callbacks.history.History at 0x249d0843080>"
      ]
     },
     "execution_count": 12,
     "metadata": {},
     "output_type": "execute_result"
    }
   ],
   "source": [
    "model = Sequential()\n",
    "num_layers = best_hps['num_layers']\n",
    "amount_of_units_0 = 140\n",
    "amount_of_units_1 = 60\n",
    "amount_of_units_2 = 80\n",
    "amount_of_units = 0\n",
    "for i in range(num_layers):\n",
    "    model.add(LSTM(units=best_hps['units_' + str(i)],\n",
    "                    activation='relu',\n",
    "                    input_shape=(n_days, num_features) if i == 0 else None,\n",
    "                    return_sequences=i < num_layers - 1))\n",
    "model.add(Dense(m_days, activation='linear'))\n",
    "model.compile(optimizer='adam', loss='mean_squared_error')\n",
    "model.fit(xs, ys, epochs=5, batch_size=32, validation_split=0.2, callbacks=[keras.callbacks.EarlyStopping(patience=3)])"
   ]
  },
  {
   "cell_type": "code",
   "execution_count": 13,
   "metadata": {},
   "outputs": [
    {
     "name": "stdout",
     "output_type": "stream",
     "text": [
      "\u001b[1m18/18\u001b[0m \u001b[32m━━━━━━━━━━━━━━━━━━━━\u001b[0m\u001b[37m\u001b[0m \u001b[1m2s\u001b[0m 65ms/step\n"
     ]
    }
   ],
   "source": [
    "y_pred = model.predict(X_test)\n"
   ]
  },
  {
   "cell_type": "code",
   "execution_count": 14,
   "metadata": {},
   "outputs": [
    {
     "data": {
      "text/plain": [
       "(561, 10)"
      ]
     },
     "execution_count": 14,
     "metadata": {},
     "output_type": "execute_result"
    }
   ],
   "source": [
    "y_pred.shape"
   ]
  },
  {
   "cell_type": "code",
   "execution_count": 21,
   "metadata": {},
   "outputs": [
    {
     "data": {
      "image/png": "[encoded data removed]",
      "text/plain": [
       "<Figure size 1600x800 with 1 Axes>"
      ]
     },
     "metadata": {},
     "output_type": "display_data"
    }
   ],
   "source": [
    "plt.figure(figsize=(16,8))\n",
    "plt.plot(Y_test[0], color = 'black', label = 'Test')\n",
    "plt.plot(y_pred[0], color = 'green', label = 'pred')\n",
    "plt.legend()\n",
    "plt.show()"
   ]
  },
  {
   "cell_type": "code",
   "execution_count": null,
   "metadata": {},
   "outputs": [],
   "source": []
  },
  {
   "cell_type": "code",
   "execution_count": null,
   "metadata": {},
   "outputs": [],
   "source": []
  },
  {
   "cell_type": "code",
   "execution_count": null,
   "metadata": {},
   "outputs": [],
   "source": []
  },
  {
   "cell_type": "code",
   "execution_count": null,
   "metadata": {},
   "outputs": [],
   "source": []
  }
 ],
 "metadata": {
  "kernelspec": {
   "display_name": "Python 3",
   "language": "python",
   "name": "python3"
  },
  "language_info": {
   "codemirror_mode": {
    "name": "ipython",
    "version": 3
   },
   "file_extension": ".py",
   "mimetype": "text/x-python",
   "name": "python",
   "nbconvert_exporter": "python",
   "pygments_lexer": "ipython3",
   "version": "3.12.1"
  }
 },
 "nbformat": 4,
 "nbformat_minor": 2
}
