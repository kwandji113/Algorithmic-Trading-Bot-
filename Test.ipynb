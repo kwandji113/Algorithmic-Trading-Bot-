{
 "cells": [
  {
   "cell_type": "code",
   "execution_count": 3,
   "metadata": {},
   "outputs": [],
   "source": [
    "import os\n",
    "import datetime\n",
    "import numpy as np\n",
    "import matplotlib.pyplot as plt\n",
    "import pandas as pd\n",
    "import yfinance as yf\n",
    "import pandas_ta as ta\n",
    "from sklearn.preprocessing import MinMaxScaler\n",
    "#globals\n",
    "TOTAL_FEATURES = 8\n",
    "BACK_CANDLES = 10\n",
    "FUTURE_DAYS = 1\n",
    "\n",
    "def create_stock_dictionary():\n",
    "    dictionary = {}\n",
    "    current_directory = os.getcwd()\n",
    "    folder_name = 'S&P500'\n",
    "    folder_path = os.path.join(current_directory, folder_name)\n",
    "\n",
    "    for file_name in os.listdir(folder_path):\n",
    "        if file_name.endswith('.csv'):\n",
    "            name = file_name.split(\"_\")[0]\n",
    "            file_path = os.path.join(folder_path, file_name)\n",
    "            dictionary[name] = pd.read_csv(file_path)\n",
    "            \n",
    "    return dictionary\n"
   ]
  },
  {
   "cell_type": "code",
   "execution_count": 6,
   "metadata": {},
   "outputs": [
    {
     "data": {
      "text/plain": [
       "['ELV', 'MSCI', 'CI', 'DRI', 'ALGN']"
      ]
     },
     "execution_count": 6,
     "metadata": {},
     "output_type": "execute_result"
    }
   ],
   "source": [
    "import random\n",
    "stock_data = create_stock_dictionary()\n",
    "random_keys = random.sample(list(stock_data.keys()), 5)\n",
    "random_keys\n"
   ]
  },
  {
   "cell_type": "code",
   "execution_count": null,
   "metadata": {},
   "outputs": [],
   "source": [
    "n_days = BACK_CANDLES\n",
    "m_days = FUTURE_DAYS\n",
    "random_stock_data = {}\n",
    "for i in random_keys:\n",
    "    random_stock_data[i] = stock_data[i]"
   ]
  },
  {
   "cell_type": "code",
   "execution_count": 28,
   "metadata": {},
   "outputs": [
    {
     "name": "stderr",
     "output_type": "stream",
     "text": [
      "C:\\Users\\Rober\\AppData\\Local\\Temp\\ipykernel_19548\\4047666461.py:8: FutureWarning: Setting an item of incompatible dtype is deprecated and will raise in a future error of pandas. Value '[0.03466707 0.02392899 0.01355521 ... 0.00757541 0.00596104 0.03030032]' has dtype incompatible with int64, please explicitly cast to a compatible dtype first.\n",
      "  stacked_stock_data.iloc[:, i] = scaler.fit_transform(column_data)\n"
     ]
    },
    {
     "data": {
      "text/html": [
       "<div>\n",
       "<style scoped>\n",
       "    .dataframe tbody tr th:only-of-type {\n",
       "        vertical-align: middle;\n",
       "    }\n",
       "\n",
       "    .dataframe tbody tr th {\n",
       "        vertical-align: top;\n",
       "    }\n",
       "\n",
       "    .dataframe thead th {\n",
       "        text-align: right;\n",
       "    }\n",
       "</style>\n",
       "<table border=\"1\" class=\"dataframe\">\n",
       "  <thead>\n",
       "    <tr style=\"text-align: right;\">\n",
       "      <th></th>\n",
       "      <th>Date</th>\n",
       "      <th>Open</th>\n",
       "      <th>High</th>\n",
       "      <th>Low</th>\n",
       "      <th>Adj Close</th>\n",
       "      <th>Volume</th>\n",
       "      <th>TargetNextClose</th>\n",
       "    </tr>\n",
       "  </thead>\n",
       "  <tbody>\n",
       "    <tr>\n",
       "      <th>0</th>\n",
       "      <td>2022-06-28 09:30:00-04:00</td>\n",
       "      <td>0.753368</td>\n",
       "      <td>0.749387</td>\n",
       "      <td>0.744343</td>\n",
       "      <td>0.748650</td>\n",
       "      <td>0.034667</td>\n",
       "      <td>0.742822</td>\n",
       "    </tr>\n",
       "    <tr>\n",
       "      <th>1</th>\n",
       "      <td>2022-06-28 10:30:00-04:00</td>\n",
       "      <td>0.748751</td>\n",
       "      <td>0.742680</td>\n",
       "      <td>0.745809</td>\n",
       "      <td>0.742822</td>\n",
       "      <td>0.023929</td>\n",
       "      <td>0.732655</td>\n",
       "    </tr>\n",
       "    <tr>\n",
       "      <th>2</th>\n",
       "      <td>2022-06-28 11:30:00-04:00</td>\n",
       "      <td>0.743255</td>\n",
       "      <td>0.735746</td>\n",
       "      <td>0.735630</td>\n",
       "      <td>0.732655</td>\n",
       "      <td>0.013555</td>\n",
       "      <td>0.724957</td>\n",
       "    </tr>\n",
       "    <tr>\n",
       "      <th>3</th>\n",
       "      <td>2022-06-28 12:30:00-04:00</td>\n",
       "      <td>0.730743</td>\n",
       "      <td>0.725003</td>\n",
       "      <td>0.728302</td>\n",
       "      <td>0.724957</td>\n",
       "      <td>0.010410</td>\n",
       "      <td>0.722698</td>\n",
       "    </tr>\n",
       "    <tr>\n",
       "      <th>4</th>\n",
       "      <td>2022-06-28 13:30:00-04:00</td>\n",
       "      <td>0.725347</td>\n",
       "      <td>0.719206</td>\n",
       "      <td>0.725833</td>\n",
       "      <td>0.722698</td>\n",
       "      <td>0.010243</td>\n",
       "      <td>0.722828</td>\n",
       "    </tr>\n",
       "    <tr>\n",
       "      <th>...</th>\n",
       "      <td>...</td>\n",
       "      <td>...</td>\n",
       "      <td>...</td>\n",
       "      <td>...</td>\n",
       "      <td>...</td>\n",
       "      <td>...</td>\n",
       "      <td>...</td>\n",
       "    </tr>\n",
       "    <tr>\n",
       "      <th>16328</th>\n",
       "      <td>2024-03-06 10:30:00-05:00</td>\n",
       "      <td>0.382180</td>\n",
       "      <td>0.380483</td>\n",
       "      <td>0.385151</td>\n",
       "      <td>0.384012</td>\n",
       "      <td>0.005178</td>\n",
       "      <td>0.385572</td>\n",
       "    </tr>\n",
       "    <tr>\n",
       "      <th>16329</th>\n",
       "      <td>2024-03-06 11:30:00-05:00</td>\n",
       "      <td>0.383439</td>\n",
       "      <td>0.381830</td>\n",
       "      <td>0.385493</td>\n",
       "      <td>0.385572</td>\n",
       "      <td>0.003412</td>\n",
       "      <td>0.387581</td>\n",
       "    </tr>\n",
       "    <tr>\n",
       "      <th>16330</th>\n",
       "      <td>2024-03-06 12:30:00-05:00</td>\n",
       "      <td>0.385358</td>\n",
       "      <td>0.383433</td>\n",
       "      <td>0.388072</td>\n",
       "      <td>0.387581</td>\n",
       "      <td>0.005675</td>\n",
       "      <td>0.383932</td>\n",
       "    </tr>\n",
       "    <tr>\n",
       "      <th>16331</th>\n",
       "      <td>2024-03-06 13:30:00-05:00</td>\n",
       "      <td>0.388146</td>\n",
       "      <td>0.383522</td>\n",
       "      <td>0.384951</td>\n",
       "      <td>0.383932</td>\n",
       "      <td>0.007575</td>\n",
       "      <td>0.385012</td>\n",
       "    </tr>\n",
       "    <tr>\n",
       "      <th>16332</th>\n",
       "      <td>2024-03-06 14:30:00-05:00</td>\n",
       "      <td>0.383289</td>\n",
       "      <td>0.381178</td>\n",
       "      <td>0.385673</td>\n",
       "      <td>0.385012</td>\n",
       "      <td>0.005961</td>\n",
       "      <td>0.384372</td>\n",
       "    </tr>\n",
       "  </tbody>\n",
       "</table>\n",
       "<p>16333 rows × 7 columns</p>\n",
       "</div>"
      ],
      "text/plain": [
       "                            Date      Open      High       Low  Adj Close  \\\n",
       "0      2022-06-28 09:30:00-04:00  0.753368  0.749387  0.744343   0.748650   \n",
       "1      2022-06-28 10:30:00-04:00  0.748751  0.742680  0.745809   0.742822   \n",
       "2      2022-06-28 11:30:00-04:00  0.743255  0.735746  0.735630   0.732655   \n",
       "3      2022-06-28 12:30:00-04:00  0.730743  0.725003  0.728302   0.724957   \n",
       "4      2022-06-28 13:30:00-04:00  0.725347  0.719206  0.725833   0.722698   \n",
       "...                          ...       ...       ...       ...        ...   \n",
       "16328  2024-03-06 10:30:00-05:00  0.382180  0.380483  0.385151   0.384012   \n",
       "16329  2024-03-06 11:30:00-05:00  0.383439  0.381830  0.385493   0.385572   \n",
       "16330  2024-03-06 12:30:00-05:00  0.385358  0.383433  0.388072   0.387581   \n",
       "16331  2024-03-06 13:30:00-05:00  0.388146  0.383522  0.384951   0.383932   \n",
       "16332  2024-03-06 14:30:00-05:00  0.383289  0.381178  0.385673   0.385012   \n",
       "\n",
       "         Volume  TargetNextClose  \n",
       "0      0.034667         0.742822  \n",
       "1      0.023929         0.732655  \n",
       "2      0.013555         0.724957  \n",
       "3      0.010410         0.722698  \n",
       "4      0.010243         0.722828  \n",
       "...         ...              ...  \n",
       "16328  0.005178         0.385572  \n",
       "16329  0.003412         0.387581  \n",
       "16330  0.005675         0.383932  \n",
       "16331  0.007575         0.385012  \n",
       "16332  0.005961         0.384372  \n",
       "\n",
       "[16333 rows x 7 columns]"
      ]
     },
     "execution_count": 28,
     "metadata": {},
     "output_type": "execute_result"
    }
   ],
   "source": [
    "stacked_stock_data = pd.concat((random_stock_data.values()), ignore_index=True, axis=0)\n",
    "stacked_stock_data[\"TargetNextClose\"] = stacked_stock_data[\"Adj Close\"].shift(-1)\n",
    "stacked_stock_data.drop(['Close'], axis=1, inplace=True)\n",
    "stacked_stock_data.rename(columns = {'Datetime':'Date'}, inplace = True) \n",
    "scaler = MinMaxScaler()\n",
    "for i in range(1, stacked_stock_data.shape[1]):\n",
    "    column_data = stacked_stock_data.iloc[:, i].values.reshape(-1, 1)\n",
    "    stacked_stock_data.iloc[:, i] = scaler.fit_transform(column_data)\n",
    "stacked_stock_data = stacked_stock_data.dropna()\n",
    "stacked_stock_data\n"
   ]
  },
  {
   "cell_type": "code",
   "execution_count": 44,
   "metadata": {},
   "outputs": [],
   "source": [
    "xs, ys = [], [] # lists for our features/labels for LSTM\n",
    "\n",
    "for i in range(len(stacked_stock_data) - n_days): \n",
    "\n",
    "    v = stacked_stock_data.iloc[i:(i + n_days), :]\n",
    "\n",
    "    if v['Date'].iloc[-1] <= v['Date'].iloc[0]: \n",
    "        continue\n",
    "\n",
    "    xs.append(v.iloc[:, :-1].to_numpy())\n",
    "    ys.append(stacked_stock_data.iloc[i + n_days, len(stacked_stock_data.columns) - 1])\n",
    "xs = np.array(xs)\n",
    "ys = np.array(ys)\n"
   ]
  },
  {
   "cell_type": "code",
   "execution_count": 45,
   "metadata": {},
   "outputs": [
    {
     "name": "stderr",
     "output_type": "stream",
     "text": [
      "c:\\Users\\Rober\\AppData\\Local\\Programs\\Python\\Python312\\Lib\\site-packages\\keras\\src\\layers\\rnn\\rnn.py:205: UserWarning: Do not pass an `input_shape`/`input_dim` argument to a layer. When using Sequential models, prefer using an `Input(shape)` object as the first layer in the model instead.\n",
      "  super().__init__(**kwargs)\n"
     ]
    },
    {
     "data": {
      "text/html": [
       "<pre style=\"white-space:pre;overflow-x:auto;line-height:normal;font-family:Menlo,'DejaVu Sans Mono',consolas,'Courier New',monospace\"><span style=\"font-weight: bold\">Model: \"sequential_1\"</span>\n",
       "</pre>\n"
      ],
      "text/plain": [
       "\u001b[1mModel: \"sequential_1\"\u001b[0m\n"
      ]
     },
     "metadata": {},
     "output_type": "display_data"
    },
    {
     "data": {
      "text/html": [
       "<pre style=\"white-space:pre;overflow-x:auto;line-height:normal;font-family:Menlo,'DejaVu Sans Mono',consolas,'Courier New',monospace\">┏━━━━━━━━━━━━━━━━━━━━━━━━━━━━━━━━━┳━━━━━━━━━━━━━━━━━━━━━━━━┳━━━━━━━━━━━━━━━┓\n",
       "┃<span style=\"font-weight: bold\"> Layer (type)                    </span>┃<span style=\"font-weight: bold\"> Output Shape           </span>┃<span style=\"font-weight: bold\">       Param # </span>┃\n",
       "┡━━━━━━━━━━━━━━━━━━━━━━━━━━━━━━━━━╇━━━━━━━━━━━━━━━━━━━━━━━━╇━━━━━━━━━━━━━━━┩\n",
       "│ gru (<span style=\"color: #0087ff; text-decoration-color: #0087ff\">GRU</span>)                       │ (<span style=\"color: #00d7ff; text-decoration-color: #00d7ff\">None</span>, <span style=\"color: #00af00; text-decoration-color: #00af00\">11</span>)             │           <span style=\"color: #00af00; text-decoration-color: #00af00\">627</span> │\n",
       "├─────────────────────────────────┼────────────────────────┼───────────────┤\n",
       "│ dense (<span style=\"color: #0087ff; text-decoration-color: #0087ff\">Dense</span>)                   │ (<span style=\"color: #00d7ff; text-decoration-color: #00d7ff\">None</span>, <span style=\"color: #00af00; text-decoration-color: #00af00\">11</span>)             │           <span style=\"color: #00af00; text-decoration-color: #00af00\">132</span> │\n",
       "├─────────────────────────────────┼────────────────────────┼───────────────┤\n",
       "│ dense_1 (<span style=\"color: #0087ff; text-decoration-color: #0087ff\">Dense</span>)                 │ (<span style=\"color: #00d7ff; text-decoration-color: #00d7ff\">None</span>, <span style=\"color: #00af00; text-decoration-color: #00af00\">1</span>)              │            <span style=\"color: #00af00; text-decoration-color: #00af00\">12</span> │\n",
       "└─────────────────────────────────┴────────────────────────┴───────────────┘\n",
       "</pre>\n"
      ],
      "text/plain": [
       "┏━━━━━━━━━━━━━━━━━━━━━━━━━━━━━━━━━┳━━━━━━━━━━━━━━━━━━━━━━━━┳━━━━━━━━━━━━━━━┓\n",
       "┃\u001b[1m \u001b[0m\u001b[1mLayer (type)                   \u001b[0m\u001b[1m \u001b[0m┃\u001b[1m \u001b[0m\u001b[1mOutput Shape          \u001b[0m\u001b[1m \u001b[0m┃\u001b[1m \u001b[0m\u001b[1m      Param #\u001b[0m\u001b[1m \u001b[0m┃\n",
       "┡━━━━━━━━━━━━━━━━━━━━━━━━━━━━━━━━━╇━━━━━━━━━━━━━━━━━━━━━━━━╇━━━━━━━━━━━━━━━┩\n",
       "│ gru (\u001b[38;5;33mGRU\u001b[0m)                       │ (\u001b[38;5;45mNone\u001b[0m, \u001b[38;5;34m11\u001b[0m)             │           \u001b[38;5;34m627\u001b[0m │\n",
       "├─────────────────────────────────┼────────────────────────┼───────────────┤\n",
       "│ dense (\u001b[38;5;33mDense\u001b[0m)                   │ (\u001b[38;5;45mNone\u001b[0m, \u001b[38;5;34m11\u001b[0m)             │           \u001b[38;5;34m132\u001b[0m │\n",
       "├─────────────────────────────────┼────────────────────────┼───────────────┤\n",
       "│ dense_1 (\u001b[38;5;33mDense\u001b[0m)                 │ (\u001b[38;5;45mNone\u001b[0m, \u001b[38;5;34m1\u001b[0m)              │            \u001b[38;5;34m12\u001b[0m │\n",
       "└─────────────────────────────────┴────────────────────────┴───────────────┘\n"
      ]
     },
     "metadata": {},
     "output_type": "display_data"
    },
    {
     "data": {
      "text/html": [
       "<pre style=\"white-space:pre;overflow-x:auto;line-height:normal;font-family:Menlo,'DejaVu Sans Mono',consolas,'Courier New',monospace\"><span style=\"font-weight: bold\"> Total params: </span><span style=\"color: #00af00; text-decoration-color: #00af00\">771</span> (3.01 KB)\n",
       "</pre>\n"
      ],
      "text/plain": [
       "\u001b[1m Total params: \u001b[0m\u001b[38;5;34m771\u001b[0m (3.01 KB)\n"
      ]
     },
     "metadata": {},
     "output_type": "display_data"
    },
    {
     "data": {
      "text/html": [
       "<pre style=\"white-space:pre;overflow-x:auto;line-height:normal;font-family:Menlo,'DejaVu Sans Mono',consolas,'Courier New',monospace\"><span style=\"font-weight: bold\"> Trainable params: </span><span style=\"color: #00af00; text-decoration-color: #00af00\">771</span> (3.01 KB)\n",
       "</pre>\n"
      ],
      "text/plain": [
       "\u001b[1m Trainable params: \u001b[0m\u001b[38;5;34m771\u001b[0m (3.01 KB)\n"
      ]
     },
     "metadata": {},
     "output_type": "display_data"
    },
    {
     "data": {
      "text/html": [
       "<pre style=\"white-space:pre;overflow-x:auto;line-height:normal;font-family:Menlo,'DejaVu Sans Mono',consolas,'Courier New',monospace\"><span style=\"font-weight: bold\"> Non-trainable params: </span><span style=\"color: #00af00; text-decoration-color: #00af00\">0</span> (0.00 B)\n",
       "</pre>\n"
      ],
      "text/plain": [
       "\u001b[1m Non-trainable params: \u001b[0m\u001b[38;5;34m0\u001b[0m (0.00 B)\n"
      ]
     },
     "metadata": {},
     "output_type": "display_data"
    },
    {
     "name": "stdout",
     "output_type": "stream",
     "text": [
      "None\n"
     ]
    }
   ],
   "source": [
    "# Define some type of LSTM model\n",
    "from keras.layers import LSTM\n",
    "from keras.layers import Dense\n",
    "import tensorflow as tf\n",
    "from keras import Sequential\n",
    "from keras import optimizers\n",
    "from keras.optimizers import Adam\n",
    "from keras.models import Model\n",
    "from keras.layers import Dense, GRU\n",
    "\n",
    "model = Sequential()\n",
    "model.add(GRU(11, input_shape=(xs.shape[1], xs.shape[2])))\n",
    "model.add(Dense(11, activation=\"relu\"))\n",
    "model.add(Dense(1))\n",
    "model.compile(loss='mae', optimizer=Adam(1 / 1000))\n",
    "print(model.summary())"
   ]
  },
  {
   "cell_type": "code",
   "execution_count": null,
   "metadata": {},
   "outputs": [],
   "source": []
  },
  {
   "cell_type": "code",
   "execution_count": null,
   "metadata": {},
   "outputs": [],
   "source": []
  }
 ],
 "metadata": {
  "kernelspec": {
   "display_name": "Python 3",
   "language": "python",
   "name": "python3"
  },
  "language_info": {
   "codemirror_mode": {
    "name": "ipython",
    "version": 3
   },
   "file_extension": ".py",
   "mimetype": "text/x-python",
   "name": "python",
   "nbconvert_exporter": "python",
   "pygments_lexer": "ipython3",
   "version": "3.12.1"
  }
 },
 "nbformat": 4,
 "nbformat_minor": 2
}
